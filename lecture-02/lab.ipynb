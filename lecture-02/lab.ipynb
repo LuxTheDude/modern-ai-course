{
 "nbformat": 4,
 "nbformat_minor": 2,
 "metadata": {
  "colab": {
   "name": "connect4.ipynb",
   "provenance": [],
   "collapsed_sections": []
  },
  "kernelspec": {
   "name": "python3",
   "display_name": "Python 3"
  },
  "language_info": {
   "name": "python"
  },
  "pycharm": {
   "stem_cell": {
    "cell_type": "raw",
    "source": [],
    "metadata": {
     "collapsed": false
    }
   }
  }
 },
 "cells": [
  {
   "cell_type": "markdown",
   "source": [
    "[![Open In Colab](https://colab.research.google.com/assets/colab-badge.svg)](https://colab.research.google.com/github/real-itu/modern-ai-course/blob/master/lecture-02/lab.ipynb)\n",
    "\n",
    "\n",
    "# Lab 2 - Adversarial Search\n",
    "\n",
    "[Connect 4](https://en.wikipedia.org/wiki/Connect_Four) is a classic board game in which 2 players alternate placing markers in columns, and the goal is to get 4 in a row, either horizontally, vertically or diagonally. See the short video below"
   ],
   "metadata": {
    "id": "WCsnF20ssl92"
   }
  },
  {
   "cell_type": "code",
   "execution_count": null,
   "source": [
    "from IPython.display import YouTubeVideo\r\n",
    "YouTubeVideo(\"ylZBRUJi3UQ\")"
   ],
   "outputs": [],
   "metadata": {
    "colab": {
     "base_uri": "https://localhost:8080/",
     "height": 321
    },
    "id": "FjNjkAQMt3D5",
    "outputId": "353b3133-6308-422c-ed0e-8b86d8ce8d1f"
   }
  },
  {
   "cell_type": "markdown",
   "source": [
    "The game is implemented below. It will play a game where both players take random (legal) actions. The MAX player is represented with a X and the MIN player with an O. The MAX player starts. Execute the code."
   ],
   "metadata": {
    "id": "j6HUcMYbuEq_"
   }
  },
  {
   "cell_type": "code",
   "execution_count": 49,
   "source": [
    "import random\r\n",
    "from copy import deepcopy\r\n",
    "from typing import Sequence\r\n",
    "from datetime import datetime\r\n",
    "\r\n",
    "NONE = '.'\r\n",
    "MAX = 'X'\r\n",
    "MIN = 'O'\r\n",
    "COLS = 7\r\n",
    "ROWS = 6\r\n",
    "N_WIN = 4\r\n",
    "\r\n",
    "\r\n",
    "class ArrayState:\r\n",
    "    def __init__(self, board, heights, n_moves):\r\n",
    "        self.board = board\r\n",
    "        self.heights = heights\r\n",
    "        self.n_moves = n_moves\r\n",
    "\r\n",
    "    @staticmethod\r\n",
    "    def init():\r\n",
    "        board = [[NONE] * ROWS for _ in range(COLS)]\r\n",
    "        return ArrayState(board, [0] * COLS, 0)\r\n",
    "\r\n",
    "\r\n",
    "def result(state: ArrayState, action: int) -> ArrayState:\r\n",
    "    \"\"\"Insert in the given column.\"\"\"\r\n",
    "    assert 0 <= action < COLS, \"action must be a column number\"\r\n",
    "\r\n",
    "    if state.heights[action] >= ROWS:\r\n",
    "        raise Exception('Column is full')\r\n",
    "\r\n",
    "    player = MAX if state.n_moves % 2 == 0 else MIN\r\n",
    "\r\n",
    "    board = deepcopy(state.board)\r\n",
    "    board[action][ROWS - state.heights[action] - 1] = player\r\n",
    "\r\n",
    "    heights = deepcopy(state.heights)\r\n",
    "    heights[action] += 1\r\n",
    "\r\n",
    "    return ArrayState(board, heights, state.n_moves + 1)\r\n",
    "\r\n",
    "\r\n",
    "def actions(state: ArrayState) -> Sequence[int]:\r\n",
    "    order = [3,2,4,1,5,0,6]\r\n",
    "    return [i for i in order if state.heights[i] < ROWS]\r\n",
    "\r\n",
    "def flipLine(line) -> str:\r\n",
    "    for s in line:\r\n",
    "        if s == MIN:\r\n",
    "            yield MAX\r\n",
    "        elif s == MAX:\r\n",
    "            yield MIN\r\n",
    "        else:\r\n",
    "            yield s\r\n",
    "\r\n",
    "def flipLines(lines):\r\n",
    "    for line, val in lines:\r\n",
    "        yield flipLine(line), val\r\n",
    "\r\n",
    "def heuristic(lines: list[list[str]]) -> float:\r\n",
    "    maxScore = 0\r\n",
    "    minScore = 0\r\n",
    "    highestVal = 0\r\n",
    "    for line in lines:\r\n",
    "        i = 0\r\n",
    "        while i + 4 <= len(line):\r\n",
    "            highestVal += 4\r\n",
    "            section = line[i:i+4]\r\n",
    "            maxCount = section.count(MAX)\r\n",
    "            minCount = section.count(MIN)\r\n",
    "            if minCount == 0 and maxCount > 1:\r\n",
    "                maxScore += maxCount\r\n",
    "            if maxCount == 0 and minCount > 1:\r\n",
    "                minScore += minCount\r\n",
    "            i += 1\r\n",
    "            \r\n",
    "        \r\n",
    "    \r\n",
    "    return (maxScore / highestVal) - (minScore / highestVal)\r\n",
    "\r\n",
    "\r\n",
    "\r\n",
    "\r\n",
    "\r\n",
    "def utility(state: ArrayState) -> float:\r\n",
    "    \"\"\"Get the winner on the current board.\"\"\"\r\n",
    "\r\n",
    "    board = state.board\r\n",
    "\r\n",
    "    def diagonalsPos():\r\n",
    "        \"\"\"Get positive diagonals, going from bottom-left to top-right.\"\"\"\r\n",
    "        for di in ([(j, i - j) for j in range(COLS)] for i in range(COLS + ROWS - 1)):\r\n",
    "            yield [board[i][j] for i, j in di if i >= 0 and j >= 0 and i < COLS and j < ROWS]\r\n",
    "\r\n",
    "    def diagonalsNeg():\r\n",
    "        \"\"\"Get negative diagonals, going from top-left to bottom-right.\"\"\"\r\n",
    "        for di in ([(j, i - COLS + j + 1) for j in range(COLS)] for i in range(COLS + ROWS - 1)):\r\n",
    "            yield [board[i][j] for i, j in di if i >= 0 and j >= 0 and i < COLS and j < ROWS]\r\n",
    "\r\n",
    "    lines = board + \\\r\n",
    "            list(zip(*board)) + \\\r\n",
    "            list(diagonalsNeg()) + \\\r\n",
    "            list(diagonalsPos())\r\n",
    "\r\n",
    "    max_win = MAX * N_WIN\r\n",
    "    min_win = MIN * N_WIN\r\n",
    "    for line in lines:\r\n",
    "        str_line = \"\".join(line)\r\n",
    "        if max_win in str_line:\r\n",
    "            return 1\r\n",
    "        elif min_win in str_line:\r\n",
    "            return -1\r\n",
    "    lars = heuristic(lines)\r\n",
    "    return lars\r\n",
    "\r\n",
    "\r\n",
    "def terminal_test(state: ArrayState) -> list:\r\n",
    "    return state.n_moves >= COLS * ROWS or utility(s) == -1 or utility(s) == 1\r\n",
    "\r\n",
    "\r\n",
    "def printBoard(state: ArrayState):\r\n",
    "    board = state.board\r\n",
    "    \"\"\"Print the board.\"\"\"\r\n",
    "    print('  '.join(map(str, range(COLS))))\r\n",
    "    for y in range(ROWS):\r\n",
    "        print('  '.join(str(board[x][y]) for x in range(COLS)))\r\n",
    "    print()\r\n",
    "\r\n",
    "def playerTurn(state: ArrayState):\r\n",
    "    return MAX if state.n_moves % 2 == 0 else MIN\r\n",
    "\r\n",
    "\r\n",
    "if __name__ == '__main__':\r\n",
    "    s = ArrayState.init()\r\n",
    "    playRandom = False\r\n",
    "    while not terminal_test(s):\r\n",
    "        if playerTurn(s) == MIN:\r\n",
    "            a = -1\r\n",
    "            if playRandom:\r\n",
    "                #a = random.choice(actions(s))\r\n",
    "                a = minimaxDecisionMin(s)\r\n",
    "            else:\r\n",
    "                validInput = False\r\n",
    "                while(not validInput):\r\n",
    "                    a = int(input(\"Please Input a column!\"))\r\n",
    "                    validInput = a in actions(s)\r\n",
    "                    if(not validInput):\r\n",
    "                        print(\"Not a valid column. Try again!\")\r\n",
    "        else:\r\n",
    "            #a = random.choice(actions(s))\r\n",
    "            start = datetime.now()\r\n",
    "            a = minimaxDecisionMax(s)\r\n",
    "            print(\"time\" + str(datetime.now() - start))\r\n",
    "        s = result(s, a)\r\n",
    "        printBoard(s)\r\n",
    "    print(utility(s))\r\n"
   ],
   "outputs": [
    {
     "output_type": "stream",
     "name": "stdout",
     "text": [
      "3\n",
      "2\n",
      "4\n",
      "1\n",
      "5\n",
      "0\n",
      "6\n",
      "[0.014492753623188404, 0.014492753623188404, 0.014492753623188404, 0.007246376811594203, 0.007246376811594203, 0.0, 0.0]\n",
      "time0:00:00.831457\n",
      "0  1  2  3  4  5  6\n",
      ".  .  .  .  .  .  .\n",
      ".  .  .  .  .  .  .\n",
      ".  .  .  .  .  .  .\n",
      ".  .  .  .  .  .  .\n",
      ".  .  .  .  .  .  .\n",
      ".  .  .  X  .  .  .\n",
      "\n",
      "[0.0, 0.0, 0.0, 0.0, 0.0, 0.014492753623188404, 0.014492753623188404]\n",
      "0  1  2  3  4  5  6\n",
      ".  .  .  .  .  .  .\n",
      ".  .  .  .  .  .  .\n",
      ".  .  .  .  .  .  .\n",
      ".  .  .  .  .  .  .\n",
      ".  .  .  O  .  .  .\n",
      ".  .  .  X  .  .  .\n",
      "\n",
      "3\n",
      "2\n",
      "4\n",
      "1\n",
      "5\n",
      "0\n",
      "6\n",
      "[0.021739130434782608, 0.014492753623188404, 0.014492753623188404, 0.0, 0.0, 0.0, 0.0]\n",
      "time0:00:01.495652\n",
      "0  1  2  3  4  5  6\n",
      ".  .  .  .  .  .  .\n",
      ".  .  .  .  .  .  .\n",
      ".  .  .  .  .  .  .\n",
      ".  .  .  X  .  .  .\n",
      ".  .  .  O  .  .  .\n",
      ".  .  .  X  .  .  .\n",
      "\n"
     ]
    },
    {
     "output_type": "error",
     "ename": "KeyboardInterrupt",
     "evalue": "",
     "traceback": [
      "\u001b[1;31m---------------------------------------------------------------------------\u001b[0m",
      "\u001b[1;31mKeyboardInterrupt\u001b[0m                         Traceback (most recent call last)",
      "\u001b[1;32m~\\AppData\\Local\\Temp/ipykernel_25176/3962299720.py\u001b[0m in \u001b[0;36m<module>\u001b[1;34m\u001b[0m\n\u001b[0;32m    140\u001b[0m             \u001b[1;32mif\u001b[0m \u001b[0mplayRandom\u001b[0m\u001b[1;33m:\u001b[0m\u001b[1;33m\u001b[0m\u001b[1;33m\u001b[0m\u001b[0m\n\u001b[0;32m    141\u001b[0m                 \u001b[1;31m#a = random.choice(actions(s))\u001b[0m\u001b[1;33m\u001b[0m\u001b[1;33m\u001b[0m\u001b[1;33m\u001b[0m\u001b[0m\n\u001b[1;32m--> 142\u001b[1;33m                 \u001b[0ma\u001b[0m \u001b[1;33m=\u001b[0m \u001b[0mminimaxDecisionMin\u001b[0m\u001b[1;33m(\u001b[0m\u001b[0ms\u001b[0m\u001b[1;33m)\u001b[0m\u001b[1;33m\u001b[0m\u001b[1;33m\u001b[0m\u001b[0m\n\u001b[0m\u001b[0;32m    143\u001b[0m             \u001b[1;32melse\u001b[0m\u001b[1;33m:\u001b[0m\u001b[1;33m\u001b[0m\u001b[1;33m\u001b[0m\u001b[0m\n\u001b[0;32m    144\u001b[0m                 \u001b[0mvalidInput\u001b[0m \u001b[1;33m=\u001b[0m \u001b[1;32mFalse\u001b[0m\u001b[1;33m\u001b[0m\u001b[1;33m\u001b[0m\u001b[0m\n",
      "\u001b[1;32m~\\AppData\\Local\\Temp/ipykernel_25176/1751407374.py\u001b[0m in \u001b[0;36mminimaxDecisionMin\u001b[1;34m(state)\u001b[0m\n\u001b[0;32m     19\u001b[0m     \u001b[0mutilities\u001b[0m \u001b[1;33m=\u001b[0m \u001b[1;33m[\u001b[0m\u001b[1;33m]\u001b[0m\u001b[1;33m\u001b[0m\u001b[1;33m\u001b[0m\u001b[0m\n\u001b[0;32m     20\u001b[0m     \u001b[1;32mfor\u001b[0m \u001b[0ma\u001b[0m \u001b[1;32min\u001b[0m \u001b[0mactions\u001b[0m\u001b[1;33m(\u001b[0m\u001b[0mstate\u001b[0m\u001b[1;33m)\u001b[0m\u001b[1;33m:\u001b[0m\u001b[1;33m\u001b[0m\u001b[1;33m\u001b[0m\u001b[0m\n\u001b[1;32m---> 21\u001b[1;33m         \u001b[0mnewV\u001b[0m \u001b[1;33m=\u001b[0m \u001b[0mmaxValue\u001b[0m\u001b[1;33m(\u001b[0m\u001b[0mresult\u001b[0m\u001b[1;33m(\u001b[0m\u001b[0mstate\u001b[0m\u001b[1;33m,\u001b[0m \u001b[0ma\u001b[0m\u001b[1;33m)\u001b[0m\u001b[1;33m,\u001b[0m \u001b[1;36m0\u001b[0m\u001b[1;33m,\u001b[0m \u001b[1;33m-\u001b[0m\u001b[0mfloat\u001b[0m\u001b[1;33m(\u001b[0m\u001b[1;34m\"inf\"\u001b[0m\u001b[1;33m)\u001b[0m\u001b[1;33m,\u001b[0m \u001b[0mfloat\u001b[0m\u001b[1;33m(\u001b[0m\u001b[1;34m\"inf\"\u001b[0m\u001b[1;33m)\u001b[0m\u001b[1;33m)\u001b[0m\u001b[1;33m\u001b[0m\u001b[1;33m\u001b[0m\u001b[0m\n\u001b[0m\u001b[0;32m     22\u001b[0m         \u001b[0mutilities\u001b[0m\u001b[1;33m.\u001b[0m\u001b[0mappend\u001b[0m\u001b[1;33m(\u001b[0m\u001b[0mnewV\u001b[0m\u001b[1;33m)\u001b[0m\u001b[1;33m\u001b[0m\u001b[1;33m\u001b[0m\u001b[0m\n\u001b[0;32m     23\u001b[0m         \u001b[1;32mif\u001b[0m \u001b[0mnewV\u001b[0m \u001b[1;33m<\u001b[0m \u001b[0mv\u001b[0m\u001b[1;33m:\u001b[0m\u001b[1;33m\u001b[0m\u001b[1;33m\u001b[0m\u001b[0m\n",
      "\u001b[1;32m~\\AppData\\Local\\Temp/ipykernel_25176/1751407374.py\u001b[0m in \u001b[0;36mmaxValue\u001b[1;34m(state, depth, alpha, beta)\u001b[0m\n\u001b[0;32m     32\u001b[0m     \u001b[0mv\u001b[0m \u001b[1;33m=\u001b[0m \u001b[1;33m-\u001b[0m\u001b[0mfloat\u001b[0m\u001b[1;33m(\u001b[0m\u001b[1;34m\"inf\"\u001b[0m\u001b[1;33m)\u001b[0m\u001b[1;33m\u001b[0m\u001b[1;33m\u001b[0m\u001b[0m\n\u001b[0;32m     33\u001b[0m     \u001b[1;32mfor\u001b[0m \u001b[0ma\u001b[0m \u001b[1;32min\u001b[0m \u001b[0mactions\u001b[0m\u001b[1;33m(\u001b[0m\u001b[0mstate\u001b[0m\u001b[1;33m)\u001b[0m\u001b[1;33m:\u001b[0m\u001b[1;33m\u001b[0m\u001b[1;33m\u001b[0m\u001b[0m\n\u001b[1;32m---> 34\u001b[1;33m         \u001b[0mv\u001b[0m \u001b[1;33m=\u001b[0m \u001b[0mmax\u001b[0m\u001b[1;33m(\u001b[0m\u001b[0mv\u001b[0m\u001b[1;33m,\u001b[0m \u001b[0mminValue\u001b[0m\u001b[1;33m(\u001b[0m\u001b[0mresult\u001b[0m\u001b[1;33m(\u001b[0m\u001b[0mstate\u001b[0m\u001b[1;33m,\u001b[0m \u001b[0ma\u001b[0m\u001b[1;33m)\u001b[0m\u001b[1;33m,\u001b[0m \u001b[0mdepth\u001b[0m \u001b[1;33m+\u001b[0m \u001b[1;36m1\u001b[0m\u001b[1;33m,\u001b[0m \u001b[0malpha\u001b[0m\u001b[1;33m,\u001b[0m \u001b[0mbeta\u001b[0m\u001b[1;33m)\u001b[0m\u001b[1;33m)\u001b[0m\u001b[1;33m\u001b[0m\u001b[1;33m\u001b[0m\u001b[0m\n\u001b[0m\u001b[0;32m     35\u001b[0m         \u001b[1;32mif\u001b[0m \u001b[0mv\u001b[0m \u001b[1;33m>=\u001b[0m \u001b[0mbeta\u001b[0m\u001b[1;33m:\u001b[0m\u001b[1;33m\u001b[0m\u001b[1;33m\u001b[0m\u001b[0m\n\u001b[0;32m     36\u001b[0m             \u001b[1;32mreturn\u001b[0m \u001b[0mv\u001b[0m\u001b[1;33m\u001b[0m\u001b[1;33m\u001b[0m\u001b[0m\n",
      "\u001b[1;32m~\\AppData\\Local\\Temp/ipykernel_25176/1751407374.py\u001b[0m in \u001b[0;36mminValue\u001b[1;34m(state, depth, alpha, beta)\u001b[0m\n\u001b[0;32m     43\u001b[0m     \u001b[0mv\u001b[0m \u001b[1;33m=\u001b[0m \u001b[0mfloat\u001b[0m\u001b[1;33m(\u001b[0m\u001b[1;34m\"inf\"\u001b[0m\u001b[1;33m)\u001b[0m\u001b[1;33m\u001b[0m\u001b[1;33m\u001b[0m\u001b[0m\n\u001b[0;32m     44\u001b[0m     \u001b[1;32mfor\u001b[0m \u001b[0ma\u001b[0m \u001b[1;32min\u001b[0m \u001b[0mactions\u001b[0m\u001b[1;33m(\u001b[0m\u001b[0mstate\u001b[0m\u001b[1;33m)\u001b[0m\u001b[1;33m:\u001b[0m\u001b[1;33m\u001b[0m\u001b[1;33m\u001b[0m\u001b[0m\n\u001b[1;32m---> 45\u001b[1;33m         \u001b[0mv\u001b[0m \u001b[1;33m=\u001b[0m \u001b[0mmin\u001b[0m\u001b[1;33m(\u001b[0m\u001b[0mv\u001b[0m\u001b[1;33m,\u001b[0m \u001b[0mmaxValue\u001b[0m\u001b[1;33m(\u001b[0m\u001b[0mresult\u001b[0m\u001b[1;33m(\u001b[0m\u001b[0mstate\u001b[0m\u001b[1;33m,\u001b[0m \u001b[0ma\u001b[0m\u001b[1;33m)\u001b[0m\u001b[1;33m,\u001b[0m \u001b[0mdepth\u001b[0m \u001b[1;33m+\u001b[0m \u001b[1;36m1\u001b[0m\u001b[1;33m,\u001b[0m \u001b[0malpha\u001b[0m\u001b[1;33m,\u001b[0m \u001b[0mbeta\u001b[0m\u001b[1;33m)\u001b[0m\u001b[1;33m)\u001b[0m\u001b[1;33m\u001b[0m\u001b[1;33m\u001b[0m\u001b[0m\n\u001b[0m\u001b[0;32m     46\u001b[0m         \u001b[1;32mif\u001b[0m \u001b[0mv\u001b[0m \u001b[1;33m<=\u001b[0m \u001b[0malpha\u001b[0m\u001b[1;33m:\u001b[0m\u001b[1;33m\u001b[0m\u001b[1;33m\u001b[0m\u001b[0m\n\u001b[0;32m     47\u001b[0m             \u001b[1;32mreturn\u001b[0m \u001b[0mv\u001b[0m\u001b[1;33m\u001b[0m\u001b[1;33m\u001b[0m\u001b[0m\n",
      "\u001b[1;32m~\\AppData\\Local\\Temp/ipykernel_25176/1751407374.py\u001b[0m in \u001b[0;36mmaxValue\u001b[1;34m(state, depth, alpha, beta)\u001b[0m\n\u001b[0;32m     32\u001b[0m     \u001b[0mv\u001b[0m \u001b[1;33m=\u001b[0m \u001b[1;33m-\u001b[0m\u001b[0mfloat\u001b[0m\u001b[1;33m(\u001b[0m\u001b[1;34m\"inf\"\u001b[0m\u001b[1;33m)\u001b[0m\u001b[1;33m\u001b[0m\u001b[1;33m\u001b[0m\u001b[0m\n\u001b[0;32m     33\u001b[0m     \u001b[1;32mfor\u001b[0m \u001b[0ma\u001b[0m \u001b[1;32min\u001b[0m \u001b[0mactions\u001b[0m\u001b[1;33m(\u001b[0m\u001b[0mstate\u001b[0m\u001b[1;33m)\u001b[0m\u001b[1;33m:\u001b[0m\u001b[1;33m\u001b[0m\u001b[1;33m\u001b[0m\u001b[0m\n\u001b[1;32m---> 34\u001b[1;33m         \u001b[0mv\u001b[0m \u001b[1;33m=\u001b[0m \u001b[0mmax\u001b[0m\u001b[1;33m(\u001b[0m\u001b[0mv\u001b[0m\u001b[1;33m,\u001b[0m \u001b[0mminValue\u001b[0m\u001b[1;33m(\u001b[0m\u001b[0mresult\u001b[0m\u001b[1;33m(\u001b[0m\u001b[0mstate\u001b[0m\u001b[1;33m,\u001b[0m \u001b[0ma\u001b[0m\u001b[1;33m)\u001b[0m\u001b[1;33m,\u001b[0m \u001b[0mdepth\u001b[0m \u001b[1;33m+\u001b[0m \u001b[1;36m1\u001b[0m\u001b[1;33m,\u001b[0m \u001b[0malpha\u001b[0m\u001b[1;33m,\u001b[0m \u001b[0mbeta\u001b[0m\u001b[1;33m)\u001b[0m\u001b[1;33m)\u001b[0m\u001b[1;33m\u001b[0m\u001b[1;33m\u001b[0m\u001b[0m\n\u001b[0m\u001b[0;32m     35\u001b[0m         \u001b[1;32mif\u001b[0m \u001b[0mv\u001b[0m \u001b[1;33m>=\u001b[0m \u001b[0mbeta\u001b[0m\u001b[1;33m:\u001b[0m\u001b[1;33m\u001b[0m\u001b[1;33m\u001b[0m\u001b[0m\n\u001b[0;32m     36\u001b[0m             \u001b[1;32mreturn\u001b[0m \u001b[0mv\u001b[0m\u001b[1;33m\u001b[0m\u001b[1;33m\u001b[0m\u001b[0m\n",
      "\u001b[1;32m~\\AppData\\Local\\Temp/ipykernel_25176/1751407374.py\u001b[0m in \u001b[0;36mminValue\u001b[1;34m(state, depth, alpha, beta)\u001b[0m\n\u001b[0;32m     39\u001b[0m \u001b[1;33m\u001b[0m\u001b[0m\n\u001b[0;32m     40\u001b[0m \u001b[1;32mdef\u001b[0m \u001b[0mminValue\u001b[0m\u001b[1;33m(\u001b[0m\u001b[0mstate\u001b[0m\u001b[1;33m:\u001b[0m \u001b[0mArrayState\u001b[0m\u001b[1;33m,\u001b[0m \u001b[0mdepth\u001b[0m\u001b[1;33m:\u001b[0m \u001b[0mint\u001b[0m\u001b[1;33m,\u001b[0m \u001b[0malpha\u001b[0m\u001b[1;33m,\u001b[0m \u001b[0mbeta\u001b[0m\u001b[1;33m)\u001b[0m \u001b[1;33m->\u001b[0m \u001b[0mfloat\u001b[0m\u001b[1;33m:\u001b[0m\u001b[1;33m\u001b[0m\u001b[1;33m\u001b[0m\u001b[0m\n\u001b[1;32m---> 41\u001b[1;33m     \u001b[1;32mif\u001b[0m \u001b[0mterminal_test\u001b[0m\u001b[1;33m(\u001b[0m\u001b[0mstate\u001b[0m\u001b[1;33m)\u001b[0m \u001b[1;32mor\u001b[0m \u001b[0mdepth\u001b[0m \u001b[1;33m>=\u001b[0m \u001b[0mmaxDepth\u001b[0m\u001b[1;33m:\u001b[0m\u001b[1;33m\u001b[0m\u001b[1;33m\u001b[0m\u001b[0m\n\u001b[0m\u001b[0;32m     42\u001b[0m         \u001b[1;32mreturn\u001b[0m \u001b[0mutility\u001b[0m\u001b[1;33m(\u001b[0m\u001b[0mstate\u001b[0m\u001b[1;33m)\u001b[0m\u001b[1;33m\u001b[0m\u001b[1;33m\u001b[0m\u001b[0m\n\u001b[0;32m     43\u001b[0m     \u001b[0mv\u001b[0m \u001b[1;33m=\u001b[0m \u001b[0mfloat\u001b[0m\u001b[1;33m(\u001b[0m\u001b[1;34m\"inf\"\u001b[0m\u001b[1;33m)\u001b[0m\u001b[1;33m\u001b[0m\u001b[1;33m\u001b[0m\u001b[0m\n",
      "\u001b[1;32m~\\AppData\\Local\\Temp/ipykernel_25176/3962299720.py\u001b[0m in \u001b[0;36mterminal_test\u001b[1;34m(state)\u001b[0m\n\u001b[0;32m    117\u001b[0m \u001b[1;33m\u001b[0m\u001b[0m\n\u001b[0;32m    118\u001b[0m \u001b[1;32mdef\u001b[0m \u001b[0mterminal_test\u001b[0m\u001b[1;33m(\u001b[0m\u001b[0mstate\u001b[0m\u001b[1;33m:\u001b[0m \u001b[0mArrayState\u001b[0m\u001b[1;33m)\u001b[0m \u001b[1;33m->\u001b[0m \u001b[0mlist\u001b[0m\u001b[1;33m:\u001b[0m\u001b[1;33m\u001b[0m\u001b[1;33m\u001b[0m\u001b[0m\n\u001b[1;32m--> 119\u001b[1;33m     \u001b[1;32mreturn\u001b[0m \u001b[0mstate\u001b[0m\u001b[1;33m.\u001b[0m\u001b[0mn_moves\u001b[0m \u001b[1;33m>=\u001b[0m \u001b[0mCOLS\u001b[0m \u001b[1;33m*\u001b[0m \u001b[0mROWS\u001b[0m \u001b[1;32mor\u001b[0m \u001b[0mutility\u001b[0m\u001b[1;33m(\u001b[0m\u001b[0ms\u001b[0m\u001b[1;33m)\u001b[0m \u001b[1;33m==\u001b[0m \u001b[1;33m-\u001b[0m\u001b[1;36m1\u001b[0m \u001b[1;32mor\u001b[0m \u001b[0mutility\u001b[0m\u001b[1;33m(\u001b[0m\u001b[0ms\u001b[0m\u001b[1;33m)\u001b[0m \u001b[1;33m==\u001b[0m \u001b[1;36m1\u001b[0m\u001b[1;33m\u001b[0m\u001b[1;33m\u001b[0m\u001b[0m\n\u001b[0m\u001b[0;32m    120\u001b[0m \u001b[1;33m\u001b[0m\u001b[0m\n\u001b[0;32m    121\u001b[0m \u001b[1;33m\u001b[0m\u001b[0m\n",
      "\u001b[1;32m~\\AppData\\Local\\Temp/ipykernel_25176/3962299720.py\u001b[0m in \u001b[0;36mutility\u001b[1;34m(state)\u001b[0m\n\u001b[0;32m    101\u001b[0m     \u001b[0mlines\u001b[0m \u001b[1;33m=\u001b[0m \u001b[0mboard\u001b[0m \u001b[1;33m+\u001b[0m\u001b[0;31m \u001b[0m\u001b[0;31m\\\u001b[0m\u001b[1;33m\u001b[0m\u001b[1;33m\u001b[0m\u001b[0m\n\u001b[0;32m    102\u001b[0m             \u001b[0mlist\u001b[0m\u001b[1;33m(\u001b[0m\u001b[0mzip\u001b[0m\u001b[1;33m(\u001b[0m\u001b[1;33m*\u001b[0m\u001b[0mboard\u001b[0m\u001b[1;33m)\u001b[0m\u001b[1;33m)\u001b[0m \u001b[1;33m+\u001b[0m\u001b[0;31m \u001b[0m\u001b[0;31m\\\u001b[0m\u001b[1;33m\u001b[0m\u001b[1;33m\u001b[0m\u001b[0m\n\u001b[1;32m--> 103\u001b[1;33m             \u001b[0mlist\u001b[0m\u001b[1;33m(\u001b[0m\u001b[0mdiagonalsNeg\u001b[0m\u001b[1;33m(\u001b[0m\u001b[1;33m)\u001b[0m\u001b[1;33m)\u001b[0m \u001b[1;33m+\u001b[0m\u001b[0;31m \u001b[0m\u001b[0;31m\\\u001b[0m\u001b[1;33m\u001b[0m\u001b[1;33m\u001b[0m\u001b[0m\n\u001b[0m\u001b[0;32m    104\u001b[0m             \u001b[0mlist\u001b[0m\u001b[1;33m(\u001b[0m\u001b[0mdiagonalsPos\u001b[0m\u001b[1;33m(\u001b[0m\u001b[1;33m)\u001b[0m\u001b[1;33m)\u001b[0m\u001b[1;33m\u001b[0m\u001b[1;33m\u001b[0m\u001b[0m\n\u001b[0;32m    105\u001b[0m \u001b[1;33m\u001b[0m\u001b[0m\n",
      "\u001b[1;32m~\\AppData\\Local\\Temp/ipykernel_25176/3962299720.py\u001b[0m in \u001b[0;36mdiagonalsNeg\u001b[1;34m()\u001b[0m\n\u001b[0;32m     97\u001b[0m         \u001b[1;34m\"\"\"Get negative diagonals, going from top-left to bottom-right.\"\"\"\u001b[0m\u001b[1;33m\u001b[0m\u001b[1;33m\u001b[0m\u001b[0m\n\u001b[0;32m     98\u001b[0m         \u001b[1;32mfor\u001b[0m \u001b[0mdi\u001b[0m \u001b[1;32min\u001b[0m \u001b[1;33m(\u001b[0m\u001b[1;33m[\u001b[0m\u001b[1;33m(\u001b[0m\u001b[0mj\u001b[0m\u001b[1;33m,\u001b[0m \u001b[0mi\u001b[0m \u001b[1;33m-\u001b[0m \u001b[0mCOLS\u001b[0m \u001b[1;33m+\u001b[0m \u001b[0mj\u001b[0m \u001b[1;33m+\u001b[0m \u001b[1;36m1\u001b[0m\u001b[1;33m)\u001b[0m \u001b[1;32mfor\u001b[0m \u001b[0mj\u001b[0m \u001b[1;32min\u001b[0m \u001b[0mrange\u001b[0m\u001b[1;33m(\u001b[0m\u001b[0mCOLS\u001b[0m\u001b[1;33m)\u001b[0m\u001b[1;33m]\u001b[0m \u001b[1;32mfor\u001b[0m \u001b[0mi\u001b[0m \u001b[1;32min\u001b[0m \u001b[0mrange\u001b[0m\u001b[1;33m(\u001b[0m\u001b[0mCOLS\u001b[0m \u001b[1;33m+\u001b[0m \u001b[0mROWS\u001b[0m \u001b[1;33m-\u001b[0m \u001b[1;36m1\u001b[0m\u001b[1;33m)\u001b[0m\u001b[1;33m)\u001b[0m\u001b[1;33m:\u001b[0m\u001b[1;33m\u001b[0m\u001b[1;33m\u001b[0m\u001b[0m\n\u001b[1;32m---> 99\u001b[1;33m             \u001b[1;32myield\u001b[0m \u001b[1;33m[\u001b[0m\u001b[0mboard\u001b[0m\u001b[1;33m[\u001b[0m\u001b[0mi\u001b[0m\u001b[1;33m]\u001b[0m\u001b[1;33m[\u001b[0m\u001b[0mj\u001b[0m\u001b[1;33m]\u001b[0m \u001b[1;32mfor\u001b[0m \u001b[0mi\u001b[0m\u001b[1;33m,\u001b[0m \u001b[0mj\u001b[0m \u001b[1;32min\u001b[0m \u001b[0mdi\u001b[0m \u001b[1;32mif\u001b[0m \u001b[0mi\u001b[0m \u001b[1;33m>=\u001b[0m \u001b[1;36m0\u001b[0m \u001b[1;32mand\u001b[0m \u001b[0mj\u001b[0m \u001b[1;33m>=\u001b[0m \u001b[1;36m0\u001b[0m \u001b[1;32mand\u001b[0m \u001b[0mi\u001b[0m \u001b[1;33m<\u001b[0m \u001b[0mCOLS\u001b[0m \u001b[1;32mand\u001b[0m \u001b[0mj\u001b[0m \u001b[1;33m<\u001b[0m \u001b[0mROWS\u001b[0m\u001b[1;33m]\u001b[0m\u001b[1;33m\u001b[0m\u001b[1;33m\u001b[0m\u001b[0m\n\u001b[0m\u001b[0;32m    100\u001b[0m \u001b[1;33m\u001b[0m\u001b[0m\n\u001b[0;32m    101\u001b[0m     \u001b[0mlines\u001b[0m \u001b[1;33m=\u001b[0m \u001b[0mboard\u001b[0m \u001b[1;33m+\u001b[0m\u001b[0;31m \u001b[0m\u001b[0;31m\\\u001b[0m\u001b[1;33m\u001b[0m\u001b[1;33m\u001b[0m\u001b[0m\n",
      "\u001b[1;31mKeyboardInterrupt\u001b[0m: "
     ]
    }
   ],
   "metadata": {
    "colab": {
     "base_uri": "https://localhost:8080/"
    },
    "id": "-jWBNC6j1O91",
    "outputId": "d30e499e-8da2-4938-8417-69ea4811b03f"
   }
  },
  {
   "cell_type": "markdown",
   "source": [
    "The last number 0, -1 or 1 is the utility or score of the game. 0 means it was a draw, 1 means MAX player won and -1 means MIN player won."
   ],
   "metadata": {
    "id": "rljSjxl4unxn"
   }
  },
  {
   "cell_type": "markdown",
   "source": [
    "### Exercise 1\n",
    "\n",
    "Modify the code so that you can play manually as the MIN player against the random AI."
   ],
   "metadata": {
    "id": "UUUpbYYJu6Zr"
   }
  },
  {
   "cell_type": "markdown",
   "source": [
    "### Exercise 2\n",
    "\n",
    "Implement standard minimax with a fixed depth search. Modify the utility function to handle non-terminal positions using heuristics. Find a value for the depth such that moves doesn't take longer than approx. 1s to evaluate. See if you can beat your connect4 AI."
   ],
   "metadata": {
    "id": "OrpAOYa-vbR6"
   }
  },
  {
   "cell_type": "code",
   "execution_count": 51,
   "source": [
    "maxDepth = 4\r\n",
    "def minimaxDecisionMax(state: ArrayState) -> int:\r\n",
    "    v = -float(\"inf\")\r\n",
    "    bestA = None\r\n",
    "    utilities = []\r\n",
    "    for a in actions(state):\r\n",
    "        newV = minValue(result(state, a), 0, -float(\"inf\"), float(\"inf\"))\r\n",
    "        utilities.append(newV)\r\n",
    "        if newV > v:\r\n",
    "            v = newV\r\n",
    "            bestA = a\r\n",
    "    print(utilities)\r\n",
    "    return bestA\r\n",
    "\r\n",
    "def minimaxDecisionMin(state: ArrayState) -> int:\r\n",
    "    v = float(\"inf\")\r\n",
    "    bestA = None\r\n",
    "    utilities = []\r\n",
    "    for a in actions(state):\r\n",
    "        newV = maxValue(result(state, a), 0, -float(\"inf\"), float(\"inf\"))\r\n",
    "        utilities.append(newV)\r\n",
    "        if newV < v:\r\n",
    "            v = newV\r\n",
    "            bestA = a\r\n",
    "    print(utilities)\r\n",
    "    return bestA\r\n",
    "            \r\n",
    "def maxValue(state: ArrayState, depth: int, alpha, beta) -> str:\r\n",
    "    if terminal_test(state) or depth >= maxDepth:\r\n",
    "        return utility(state)\r\n",
    "    v = -float(\"inf\")\r\n",
    "    for a in actions(state):\r\n",
    "        v = max(v, minValue(result(state, a), depth + 1, alpha, beta))\r\n",
    "        if v >= beta: \r\n",
    "            return v\r\n",
    "        alpha = max(alpha, v)\r\n",
    "    return v\r\n",
    "    \r\n",
    "def minValue(state: ArrayState, depth: int, alpha, beta) -> float:\r\n",
    "    if terminal_test(state) or depth >= maxDepth:\r\n",
    "        return utility(state)\r\n",
    "    v = float(\"inf\")\r\n",
    "    for a in actions(state):\r\n",
    "        v = min(v, maxValue(result(state, a), depth + 1, alpha, beta))\r\n",
    "        if v <= alpha:\r\n",
    "            return v\r\n",
    "        beta = min(beta, v)\r\n",
    "    return v"
   ],
   "outputs": [],
   "metadata": {}
  },
  {
   "cell_type": "markdown",
   "source": [
    "### Exercise 3\n",
    "\n",
    "Add alpha/beta pruning to your minimax. Change your depth so that moves still takes approx 1 second to evaluate. How much deeper can you search? See if you can beat your connect4 AI."
   ],
   "metadata": {
    "id": "-s7XbCsvwOtt"
   }
  },
  {
   "cell_type": "markdown",
   "source": [
    "### Exercise 4\r\n",
    "\r\n",
    "Add move ordering. The middle columns are often \"better\" since there's more winning positions that contain them. Evaluate the moves in this order: [3,2,4,1,5,0,6]. How much deeper can you search now? See if you can beat your connect4 AI"
   ],
   "metadata": {
    "id": "weG9OiFYwfSK"
   }
  },
  {
   "cell_type": "markdown",
   "source": [
    "### Exercise 5 - Optional\r\n",
    "\r\n",
    "Improve your AI somehow. Consider \r\n",
    "\r\n",
    "\r\n",
    "* Better heuristics\r\n",
    "* Faster board representations (look up bitboards)\r\n",
    "* Adding a transposition table (see class below)\r\n",
    "* Better move ordering"
   ],
   "metadata": {
    "id": "enbI-o_Cw6Jw"
   }
  },
  {
   "cell_type": "code",
   "execution_count": null,
   "source": [
    "class TranspositionTable:\r\n",
    "\r\n",
    "    def __init__(self, size=1_000_000):\r\n",
    "        self.size = size\r\n",
    "        self.vals = [None] * size\r\n",
    "\r\n",
    "    def board_str(self, state: ArrayState):\r\n",
    "        return ''.join([''.join(c) for c in state.board])\r\n",
    "\r\n",
    "    def put(self, state: ArrayState, utility: float):\r\n",
    "        bstr = self.board_str(state)\r\n",
    "        idx = hash(bstr) % self.size\r\n",
    "        self.vals[idx] = (bstr, utility)\r\n",
    "\r\n",
    "    def get(self, state: ArrayState):\r\n",
    "        bstr = self.board_str(state)\r\n",
    "        idx = hash(bstr) % self.size\r\n",
    "        stored = self.vals[idx]\r\n",
    "        if stored is None:\r\n",
    "            return None\r\n",
    "        if stored[0] == bstr:\r\n",
    "            return stored[1]\r\n",
    "        else:\r\n",
    "            return None"
   ],
   "outputs": [],
   "metadata": {
    "id": "uqAPS8cFgVN-"
   }
  }
 ]
}