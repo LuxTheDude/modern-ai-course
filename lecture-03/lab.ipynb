{
 "cells": [
  {
   "cell_type": "markdown",
   "source": [
    "[![Open In Colab](https://colab.research.google.com/assets/colab-badge.svg)](https://colab.research.google.com/github/real-itu/modern-ai-course/blob/master/lecture-03/lab.ipynb)"
   ],
   "metadata": {
    "id": "hFgoWb-cQTFe"
   }
  },
  {
   "cell_type": "markdown",
   "source": [
    "# Lab 3 - Monte Carlo Tree Search\n",
    "\n",
    "In this exercise we will use the same game as in the previous exercise, namely, Connect 4.\n",
    "([Connect 4](https://en.wikipedia.org/wiki/Connect_Four)). You should implement the MCTS algorithm to play the game."
   ],
   "metadata": {
    "id": "WCsnF20ssl92"
   }
  },
  {
   "cell_type": "markdown",
   "source": [
    "As before, the game is implemented below. It will play a game where both players take random (legal) actions. The MAX player is represented with a X and the MIN player with an O. The MAX player starts. Execute the code."
   ],
   "metadata": {
    "id": "j6HUcMYbuEq_"
   }
  },
  {
   "cell_type": "code",
   "execution_count": 86,
   "source": [
    "import random\r\n",
    "from copy import deepcopy\r\n",
    "from typing import Sequence\r\n",
    "\r\n",
    "NONE = '.'\r\n",
    "MAX = 'X'\r\n",
    "MIN = 'O'\r\n",
    "COLS = 7\r\n",
    "ROWS = 6\r\n",
    "N_WIN = 4\r\n",
    "\r\n",
    "\r\n",
    "class ArrayState:\r\n",
    "    def __init__(self, board, heights, n_moves):\r\n",
    "        self.board = board\r\n",
    "        self.heights = heights\r\n",
    "        self.n_moves = n_moves\r\n",
    "\r\n",
    "    @staticmethod\r\n",
    "    def init():\r\n",
    "        board = [[NONE] * ROWS for _ in range(COLS)]\r\n",
    "        return ArrayState(board, [0] * COLS, 0)\r\n",
    "\r\n",
    "\r\n",
    "def result(state: ArrayState, action: int) -> ArrayState:\r\n",
    "    \"\"\"Insert in the given column.\"\"\"\r\n",
    "    assert 0 <= action < COLS, \"action must be a column number\"\r\n",
    "\r\n",
    "    if state.heights[action] >= ROWS:\r\n",
    "        raise Exception('Column is full')\r\n",
    "\r\n",
    "    player = MAX if state.n_moves % 2 == 0 else MIN\r\n",
    "\r\n",
    "    board = deepcopy(state.board)\r\n",
    "    board[action][ROWS - state.heights[action] - 1] = player\r\n",
    "\r\n",
    "    heights = deepcopy(state.heights)\r\n",
    "    heights[action] += 1\r\n",
    "\r\n",
    "    return ArrayState(board, heights, state.n_moves + 1)\r\n",
    "\r\n",
    "\r\n",
    "def actions(state: ArrayState) -> Sequence[int]:\r\n",
    "    return [i for i in range(COLS) if state.heights[i] < ROWS]\r\n",
    "\r\n",
    "\r\n",
    "def branch_states(state: ArrayState) -> Sequence[ArrayState]:\r\n",
    "    \"\"\"get all reachable states from the current state:\r\n",
    "        useful for MCTS\r\n",
    "    \"\"\"\r\n",
    "    return [result(state, a) for a in actions(state)]\r\n",
    "    \r\n",
    "\r\n",
    "def utility(state: ArrayState) -> float:\r\n",
    "    \"\"\"Get the winner on the current board.\"\"\"\r\n",
    "\r\n",
    "    board = state.board\r\n",
    "\r\n",
    "    def diagonalsPos():\r\n",
    "        \"\"\"Get positive diagonals, going from bottom-left to top-right.\"\"\"\r\n",
    "        for di in ([(j, i - j) for j in range(COLS)] for i in range(COLS + ROWS - 1)):\r\n",
    "            yield [board[i][j] for i, j in di if i >= 0 and j >= 0 and i < COLS and j < ROWS]\r\n",
    "\r\n",
    "    def diagonalsNeg():\r\n",
    "        \"\"\"Get negative diagonals, going from top-left to bottom-right.\"\"\"\r\n",
    "        for di in ([(j, i - COLS + j + 1) for j in range(COLS)] for i in range(COLS + ROWS - 1)):\r\n",
    "            yield [board[i][j] for i, j in di if i >= 0 and j >= 0 and i < COLS and j < ROWS]\r\n",
    "\r\n",
    "    lines = board + \\\r\n",
    "            list(zip(*board)) + \\\r\n",
    "            list(diagonalsNeg()) + \\\r\n",
    "            list(diagonalsPos())\r\n",
    "\r\n",
    "    max_win = MAX * N_WIN\r\n",
    "    min_win = MIN * N_WIN\r\n",
    "    for line in lines:\r\n",
    "        str_line = \"\".join(line)\r\n",
    "        if max_win in str_line:\r\n",
    "            return 1\r\n",
    "        elif min_win in str_line:\r\n",
    "            return -1\r\n",
    "    return 0\r\n",
    "\r\n",
    "\r\n",
    "def terminal_test(state: ArrayState) -> bool:\r\n",
    "    return state.n_moves >= COLS * ROWS or utility(state) != 0\r\n",
    "\r\n",
    "\r\n",
    "def printBoard(state: ArrayState):\r\n",
    "    board = state.board\r\n",
    "    \"\"\"Print the board.\"\"\"\r\n",
    "    print('  '.join(map(str, range(COLS))))\r\n",
    "    for y in range(ROWS):\r\n",
    "        print('  '.join(str(board[x][y]) for x in range(COLS)))\r\n",
    "    print()\r\n",
    "\r\n",
    "def playerTurn(state: ArrayState):\r\n",
    "    return MAX if state.n_moves % 2 == 0 else MIN\r\n",
    "\r\n",
    "s = ArrayState.init()\r\n",
    "playRandom = False\r\n",
    "while not terminal_test(s):\r\n",
    "    if playerTurn(s) == MIN:\r\n",
    "        a = -1\r\n",
    "        if playRandom:\r\n",
    "            a = random.choice(actions(s))\r\n",
    "        else:\r\n",
    "            validInput = False\r\n",
    "            while(not validInput):\r\n",
    "                a = int(input(\"Please Input a column!\"))\r\n",
    "                validInput = a in actions(s)\r\n",
    "                if(not validInput):\r\n",
    "                    print(\"Not a valid column. Try again!\")\r\n",
    "    else:\r\n",
    "        mcts = MCTS()\r\n",
    "        a = mcts.choose(s, 0.01)\r\n",
    "    s = result(s, a)\r\n",
    "    printBoard(s)\r\n",
    "    print(utility(s))\r\n"
   ],
   "outputs": [
    {
     "output_type": "stream",
     "name": "stdout",
     "text": [
      "0  1  2  3  4  5  6\n",
      ".  .  .  .  .  .  .\n",
      ".  .  .  .  .  .  .\n",
      ".  .  .  .  .  .  .\n",
      ".  .  .  .  .  .  .\n",
      ".  .  .  .  .  .  .\n",
      "X  .  .  .  .  .  .\n",
      "\n",
      "0\n",
      "0  1  2  3  4  5  6\n",
      ".  .  .  .  .  .  .\n",
      ".  .  .  .  .  .  .\n",
      ".  .  .  .  .  .  .\n",
      ".  .  .  .  .  .  .\n",
      ".  .  .  .  .  .  .\n",
      "X  .  .  O  .  .  .\n",
      "\n",
      "0\n",
      "0  1  2  3  4  5  6\n",
      ".  .  .  .  .  .  .\n",
      ".  .  .  .  .  .  .\n",
      ".  .  .  .  .  .  .\n",
      ".  .  .  .  .  .  .\n",
      ".  .  .  .  .  .  .\n",
      "X  .  .  O  X  .  .\n",
      "\n",
      "0\n",
      "0  1  2  3  4  5  6\n",
      ".  .  .  .  .  .  .\n",
      ".  .  .  .  .  .  .\n",
      ".  .  .  .  .  .  .\n",
      ".  .  .  .  .  .  .\n",
      ".  .  .  O  .  .  .\n",
      "X  .  .  O  X  .  .\n",
      "\n",
      "0\n",
      "0  1  2  3  4  5  6\n",
      ".  .  .  .  .  .  .\n",
      ".  .  .  .  .  .  .\n",
      ".  .  .  .  .  .  .\n",
      ".  .  .  .  .  .  .\n",
      ".  .  .  O  X  .  .\n",
      "X  .  .  O  X  .  .\n",
      "\n",
      "0\n",
      "0  1  2  3  4  5  6\n",
      ".  .  .  .  .  .  .\n",
      ".  .  .  .  .  .  .\n",
      ".  .  .  .  .  .  .\n",
      ".  .  .  O  .  .  .\n",
      ".  .  .  O  X  .  .\n",
      "X  .  .  O  X  .  .\n",
      "\n",
      "0\n",
      "0  1  2  3  4  5  6\n",
      ".  .  .  .  .  .  .\n",
      ".  .  .  .  .  .  .\n",
      ".  .  .  .  .  .  .\n",
      ".  .  .  O  X  .  .\n",
      ".  .  .  O  X  .  .\n",
      "X  .  .  O  X  .  .\n",
      "\n",
      "0\n",
      "0  1  2  3  4  5  6\n",
      ".  .  .  .  .  .  .\n",
      ".  .  .  .  .  .  .\n",
      ".  .  .  O  .  .  .\n",
      ".  .  .  O  X  .  .\n",
      ".  .  .  O  X  .  .\n",
      "X  .  .  O  X  .  .\n",
      "\n",
      "-1\n"
     ]
    }
   ],
   "metadata": {
    "id": "-jWBNC6j1O91"
   }
  },
  {
   "cell_type": "markdown",
   "source": [
    "The last number 0, -1 or 1 is the utility or score of the game. 0 means it was a draw, 1 means MAX player won and -1 means MIN player won."
   ],
   "metadata": {
    "id": "rljSjxl4unxn"
   }
  },
  {
   "cell_type": "markdown",
   "source": [
    "### Exercise 1 (Transfer code from the previous exercise)\n",
    "\n",
    "Modify the code so that you can play manually as the MIN player against the random AI."
   ],
   "metadata": {
    "id": "UUUpbYYJu6Zr"
   }
  },
  {
   "cell_type": "code",
   "execution_count": null,
   "source": [
    "### Code here!"
   ],
   "outputs": [],
   "metadata": {
    "scrolled": true
   }
  },
  {
   "cell_type": "markdown",
   "source": [
    "### Exercise 2\r\n",
    "Implement the standard MCTS algorithm."
   ],
   "metadata": {
    "id": "OrpAOYa-vbR6"
   }
  },
  {
   "cell_type": "code",
   "execution_count": null,
   "source": [
    "class Node:\r\n",
    "    def __init__(self, parent, action: int, state : ArrayState):\r\n",
    "        self.parent = parent\r\n",
    "        self.state = state\r\n",
    "        self.action = action\r\n",
    "        self.children = []\r\n",
    "        self.N = 0\r\n",
    "        self.Q = 0\r\n",
    "\r\n",
    "    def addChild(self, child):\r\n",
    "        self.children.append((child))\r\n",
    "\r\n",
    "    def getUsedActions(self) -> Sequence[int]:\r\n",
    "        return list(map(lambda c : c.action, self.children))\r\n",
    "\r\n",
    "    def fullyExpanded(self) -> bool:\r\n",
    "        isFully = (len(self.children) == len(actions(self.state)))\r\n",
    "        return isFully"
   ],
   "outputs": [],
   "metadata": {}
  },
  {
   "cell_type": "code",
   "execution_count": null,
   "source": [
    "from abc import ABC, abstractmethod\r\n",
    "from collections import defaultdict\r\n",
    "import math\r\n",
    "from datetime import datetime\r\n",
    "import random\r\n",
    "\r\n",
    "class MCTS:\r\n",
    "    \"Monte Carlo tree searcher.\"\r\n",
    "\r\n",
    "    def __init__(self, exploration_weight=1):\r\n",
    "        pass\r\n",
    "\r\n",
    "    def do_rollout(self, state : ArrayState) -> float:\r\n",
    "        \"Train for one iteration.\"\r\n",
    "        while not terminal_test(state):\r\n",
    "            acts = actions(state)\r\n",
    "            a = random.choice(acts)\r\n",
    "            state = result(state, a)\r\n",
    "        return utility(state)\r\n",
    "\r\n",
    "    def _expand(self, node : Node) -> Node:\r\n",
    "        \"Expand the `state` with all states reachable from it\"\r\n",
    "        acts = actions(node.state)\r\n",
    "        expanded = node.getUsedActions()\r\n",
    "        unexpanded = list(set(acts) - set(expanded))\r\n",
    "        action = unexpanded.pop()\r\n",
    "        child = Node(node, action, result(node.state, action))\r\n",
    "        node.addChild(child)\r\n",
    "        return child\r\n",
    "\r\n",
    "    def _uct_select(self, node : Node):\r\n",
    "        \"Select a child of state, balancing exploration & exploitation\"\r\n",
    "        q = -float('inf')\r\n",
    "        bestChild = None\r\n",
    "        for c in node.children:\r\n",
    "            newQ = (c.Q / c.N) + (math.sqrt((2 * math.log(node.N)) / c.N))\r\n",
    "            if newQ > q:\r\n",
    "                q = newQ\r\n",
    "                bestChild = c            \r\n",
    "        return bestChild\r\n",
    "\r\n",
    "    def _select(self, node : Node) -> Node:\r\n",
    "        \"Find an unexplored descendent of the `state`\"\r\n",
    "        while not terminal_test(node.state):\r\n",
    "            if not node.fullyExpanded():\r\n",
    "                return self._expand(node)\r\n",
    "            else:\r\n",
    "                node = self._uct_select(node)\r\n",
    "        return node\r\n",
    "\r\n",
    "    def _simulate(self, state : ArrayState) -> float:\r\n",
    "        \"Returns the reward for a random simulation (to completion) of the `state`\"\r\n",
    "        return self.do_rollout(state)\r\n",
    "    \r\n",
    "    def _backpropagate(self, node : Node, reward):\r\n",
    "        \"Send the reward back up to the ancestors of the leaf\"\r\n",
    "        while not node == None:\r\n",
    "            node.N += 1\r\n",
    "            node.Q += reward\r\n",
    "            node = node.parent\r\n",
    "\r\n",
    "    def choose(self, state : ArrayState, maxTime: float) -> int:\r\n",
    "        \"Choose  a move in the game and execute it\"\r\n",
    "        start = datetime.now()\r\n",
    "        root = Node(None, None, state)\r\n",
    "        while (datetime.now() - start).seconds < maxTime:\r\n",
    "            v = self._select(root)\r\n",
    "            d = self._simulate(v.state)\r\n",
    "            self._backpropagate(v, d)\r\n",
    "        bestNode = self._uct_select(root)\r\n",
    "        return bestNode.action\r\n",
    "\r\n"
   ],
   "outputs": [],
   "metadata": {}
  },
  {
   "cell_type": "markdown",
   "source": [
    "### Exercise 3\n",
    "Implement the loop where you play against your MCTS agent. Either train the agent at each step while you play against it, or pretrain it with more rollouts and play agaist it after training."
   ],
   "metadata": {}
  },
  {
   "cell_type": "code",
   "execution_count": null,
   "source": [
    "def train_model(state : ArrayState, num_rollouts : int):\r\n",
    "    pass"
   ],
   "outputs": [],
   "metadata": {}
  },
  {
   "cell_type": "code",
   "execution_count": null,
   "source": [
    "## Play against the MCTS agent\r\n",
    "pass"
   ],
   "outputs": [],
   "metadata": {}
  },
  {
   "cell_type": "markdown",
   "source": [
    "\n",
    "### Exercise 4\n",
    "\n",
    "Add move ordering. The middle columns are often \"better\" since there's more winning positions that contain them. Increase the probability to choose middle columns when randomly executing rollouts: [3,2,4,1,5,0,6]. See if your connect4 AI can beat you.\n"
   ],
   "metadata": {}
  },
  {
   "cell_type": "markdown",
   "source": [
    "### Exercise 5 - Optional\n",
    "\n",
    "Pit your MCTS agent against the one from the previous exercise.\n",
    "* Which one wins more often?\n",
    "* Which one takes more time to run per step once it is at a point that it can beat you?"
   ],
   "metadata": {
    "id": "enbI-o_Cw6Jw"
   }
  },
  {
   "cell_type": "code",
   "execution_count": null,
   "source": [],
   "outputs": [],
   "metadata": {
    "id": "uqAPS8cFgVN-"
   }
  }
 ],
 "metadata": {
  "colab": {
   "collapsed_sections": [],
   "name": "connect4.ipynb",
   "provenance": []
  },
  "kernelspec": {
   "name": "python3",
   "display_name": "Python 3.9.6 64-bit"
  },
  "language_info": {
   "codemirror_mode": {
    "name": "ipython",
    "version": 3
   },
   "file_extension": ".py",
   "mimetype": "text/x-python",
   "name": "python",
   "nbconvert_exporter": "python",
   "pygments_lexer": "ipython3",
   "version": "3.9.6"
  },
  "interpreter": {
   "hash": "504946953ad0c0ed00fa2067a191d0a3663301cd68683b7566af9c041ef10e2f"
  }
 },
 "nbformat": 4,
 "nbformat_minor": 1
}